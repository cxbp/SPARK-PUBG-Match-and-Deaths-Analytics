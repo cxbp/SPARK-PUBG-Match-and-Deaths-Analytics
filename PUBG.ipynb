{
 "cells": [
  {
   "cell_type": "markdown",
   "metadata": {},
   "source": [
    "## DNSC 6290 Large Datasets Group Project"
   ]
  },
  {
   "cell_type": "markdown",
   "metadata": {},
   "source": [
    "### Group 6 PUBG Match Deaths and Statistics"
   ]
  },
  {
   "cell_type": "markdown",
   "metadata": {},
   "source": [
    "Create SparkContext and SparkSession:"
   ]
  },
  {
   "cell_type": "code",
   "execution_count": 47,
   "metadata": {},
   "outputs": [],
   "source": [
    "import findspark\n",
    "findspark.init()"
   ]
  },
  {
   "cell_type": "code",
   "execution_count": 48,
   "metadata": {},
   "outputs": [],
   "source": [
    "from pyspark.sql import SparkSession\n",
    "spark = SparkSession.builder \\\n",
    "     .appName(\"Test SparkSession\") \\\n",
    "     .getOrCreate()\n",
    "\n",
    "#Remember to close sc at the end"
   ]
  },
  {
   "cell_type": "code",
   "execution_count": 49,
   "metadata": {},
   "outputs": [
    {
     "data": {
      "text/html": [
       "\n",
       "            <div>\n",
       "                <p><b>SparkSession - in-memory</b></p>\n",
       "                \n",
       "        <div>\n",
       "            <p><b>SparkContext</b></p>\n",
       "\n",
       "            <p><a href=\"http://ip-172-31-75-102.ec2.internal:4040\">Spark UI</a></p>\n",
       "\n",
       "            <dl>\n",
       "              <dt>Version</dt>\n",
       "                <dd><code>v2.4.4</code></dd>\n",
       "              <dt>Master</dt>\n",
       "                <dd><code>yarn</code></dd>\n",
       "              <dt>AppName</dt>\n",
       "                <dd><code>Test SparkSession</code></dd>\n",
       "            </dl>\n",
       "        </div>\n",
       "        \n",
       "            </div>\n",
       "        "
      ],
      "text/plain": [
       "<pyspark.sql.session.SparkSession at 0x7efbeb1699d0>"
      ]
     },
     "execution_count": 49,
     "metadata": {},
     "output_type": "execute_result"
    }
   ],
   "source": [
    "spark"
   ]
  },
  {
   "cell_type": "code",
   "execution_count": 3,
   "metadata": {},
   "outputs": [],
   "source": [
    "#aggr0=sc.textFile(\"s3://bigdata2020group6/aggregate/agg_match_stats_0.csv\")\n",
    "#aggr1=sc.textFile(\"s3://bigdata2020group6/aggregate/agg_match_stats_1.csv\")\n",
    "#aggr2=sc.textFile(\"s3://bigdata2020group6/aggregate/agg_match_stats_2.csv\")\n",
    "#aggr3=sc.textFile(\"s3://bigdata2020group6/aggregate/agg_match_stats_3.csv\")\n",
    "#aggr4=sc.textFile(\"s3://bigdata2020group6/aggregate/agg_match_stats_4.csv\")"
   ]
  },
  {
   "cell_type": "code",
   "execution_count": 4,
   "metadata": {},
   "outputs": [],
   "source": [
    "#death0=sc.textFile(\"s3://bigdata2020group6/deaths/kill_match_stats_final_0.csv\")\n",
    "#death1=sc.textFile(\"s3://bigdata2020group6/deaths/kill_match_stats_final_1.csv\")\n",
    "#death2=sc.textFile(\"s3://bigdata2020group6/deaths/kill_match_stats_final_2.csv\")\n",
    "#death3=sc.textFile(\"s3://bigdata2020group6/deaths/kill_match_stats_final_3.csv\")\n",
    "#death4=sc.textFile(\"s3://bigdata2020group6/deaths/kill_match_stats_final_4.csv\")"
   ]
  },
  {
   "cell_type": "markdown",
   "metadata": {},
   "source": [
    "#### 1. Load and Prepare Data"
   ]
  },
  {
   "cell_type": "markdown",
   "metadata": {},
   "source": [
    "We need to stack all five aggregate files into one file, as well as stacking all five deaths files into one. "
   ]
  },
  {
   "cell_type": "code",
   "execution_count": 58,
   "metadata": {},
   "outputs": [],
   "source": [
    "#This command read every file in the \"aggregate\" folder\n",
    "aggr_all = spark.read.option(\"header\", \"true\") \\\n",
    "    .option(\"delimiter\", \",\") \\\n",
    "    .option(\"inferSchema\", \"true\") \\\n",
    "    .csv(\"s3://bigdata2020group6/aggregate/agg_match_stats_*.csv\")"
   ]
  },
  {
   "cell_type": "code",
   "execution_count": 59,
   "metadata": {},
   "outputs": [
    {
     "data": {
      "text/plain": [
       "67369231"
      ]
     },
     "execution_count": 59,
     "metadata": {},
     "output_type": "execute_result"
    }
   ],
   "source": [
    "aggr_all.count() #67369236 rows in total"
   ]
  },
  {
   "cell_type": "code",
   "execution_count": 61,
   "metadata": {},
   "outputs": [],
   "source": [
    "#This command read every file in the \"deaths\" folder\n",
    "death_all = spark.read.option(\"header\", \"true\") \\\n",
    "    .option(\"delimiter\", \",\") \\\n",
    "    .option(\"inferSchema\", \"true\") \\\n",
    "    .csv(\"s3://bigdata2020group6/deaths/kill_match_stats_final_*.csv\")"
   ]
  },
  {
   "cell_type": "code",
   "execution_count": 62,
   "metadata": {},
   "outputs": [
    {
     "data": {
      "text/plain": [
       "65370475"
      ]
     },
     "execution_count": 62,
     "metadata": {},
     "output_type": "execute_result"
    }
   ],
   "source": [
    "death_all.count() #65370480 rows in total"
   ]
  },
  {
   "cell_type": "code",
   "execution_count": null,
   "metadata": {},
   "outputs": [],
   "source": [
    "Data clearning: Null value in killer_placement?"
   ]
  },
  {
   "cell_type": "markdown",
   "metadata": {},
   "source": [
    "#### 3. Explore Data Structure"
   ]
  },
  {
   "cell_type": "code",
   "execution_count": 60,
   "metadata": {
    "scrolled": true
   },
   "outputs": [
    {
     "name": "stdout",
     "output_type": "stream",
     "text": [
      "+--------------------+---------+--------------------+----------+----------+--------------+-----------+------------------+------------------+----------+------------+-----------+-------------------+-------+--------------+\n",
      "|                date|game_size|            match_id|match_mode|party_size|player_assists|player_dbno|  player_dist_ride|  player_dist_walk|player_dmg|player_kills|player_name|player_survive_time|team_id|team_placement|\n",
      "+--------------------+---------+--------------------+----------+----------+--------------+-----------+------------------+------------------+----------+------------+-----------+-------------------+-------+--------------+\n",
      "|2017-11-26T20:59:...|       37|2U4GBNA0YmnNZYkzj...|       tpp|         2|             0|          1|          2870.724|        1784.84778|       117|           1|   SnuffIes|            1106.32|      4|            18|\n",
      "|2017-11-26T20:59:...|       37|2U4GBNA0YmnNZYkzj...|       tpp|         2|             0|          1|2938.4072300000003|1756.0797100000002|       127|           1|     Ozon3r|           1106.315|      4|            18|\n",
      "|2017-11-26T20:59:...|       37|2U4GBNA0YmnNZYkzj...|       tpp|         2|             0|          0|               0.0|        224.157562|        67|           0|     bovize|            235.558|      5|            33|\n",
      "|2017-11-26T20:59:...|       37|2U4GBNA0YmnNZYkzj...|       tpp|         2|             0|          0|               0.0|          92.93515|         0|           0|    sbahn87|            197.553|      5|            33|\n",
      "|2017-11-26T20:59:...|       37|2U4GBNA0YmnNZYkzj...|       tpp|         2|             0|          0|        2619.07739|          2510.447|       175|           2|  GeminiZZZ|           1537.495|     14|            11|\n",
      "|2017-11-26T20:59:...|       37|2U4GBNA0YmnNZYkzj...|       tpp|         2|             0|          0|         2896.3125|        2167.93213|        65|           0|   AlexWho6|             1537.5|     14|            11|\n",
      "|2017-11-26T20:59:...|       37|2U4GBNA0YmnNZYkzj...|       tpp|         2|             0|          0|               0.0|        3118.58032|         0|           0| R1dd1ck913|           1264.792|     15|            17|\n",
      "|2017-11-26T20:59:...|       37|2U4GBNA0YmnNZYkzj...|       tpp|         2|             0|          0|               0.0|          3237.202|         0|           0|  Emmylou89|           1264.795|     15|            17|\n",
      "|2017-11-26T20:59:...|       37|2U4GBNA0YmnNZYkzj...|       tpp|         2|             0|          0|               0.0|         1552.3147|        79|           0|      ron-n|             868.56|     17|            24|\n",
      "|2017-11-26T20:59:...|       37|2U4GBNA0YmnNZYkzj...|       tpp|         2|             0|          1|               0.0|         1450.3147|       101|           1|    SoSpicy|            868.555|     17|            24|\n",
      "+--------------------+---------+--------------------+----------+----------+--------------+-----------+------------------+------------------+----------+------------+-----------+-------------------+-------+--------------+\n",
      "only showing top 10 rows\n",
      "\n"
     ]
    }
   ],
   "source": [
    "aggr_all.show(10)"
   ]
  },
  {
   "cell_type": "code",
   "execution_count": 76,
   "metadata": {},
   "outputs": [
    {
     "name": "stdout",
     "output_type": "stream",
     "text": [
      "+------------+----------------+----------------+-----------------+-----------------+-------+--------------------+----+---------------+----------------+-----------------+-----------------+\n",
      "|   killed_by|     killer_name|killer_placement|killer_position_x|killer_position_y|    map|            match_id|time|    victim_name|victim_placement|victim_position_x|victim_position_y|\n",
      "+------------+----------------+----------------+-----------------+-----------------+-------+--------------------+----+---------------+----------------+-----------------+-----------------+\n",
      "|     Grenade| KrazyPortuguese|             5.0|         657725.1|         146275.2|MIRAMAR|2U4GBNA0YmnLSqvEy...| 823|KrazyPortuguese|             5.0|         657725.1|         146275.2|\n",
      "|      SCAR-L|nide2Bxiaojiejie|            31.0|         93091.37|         722236.4|MIRAMAR|2U4GBNA0YmnLSqvEy...| 194|    X3evolution|            33.0|         92238.68|         723375.1|\n",
      "|        S686|        Ascholes|            43.0|         366921.4|         421623.9|MIRAMAR|2U4GBNA0YmnLSqvEy...| 103|        CtrlZee|            46.0|         367304.5|         421216.1|\n",
      "|Down and Out|      Weirdo7777|             9.0|         472014.2|         313274.8|MIRAMAR|2U4GBNA0YmnLSqvEy...|1018|      BlackDpre|            13.0|         476645.9|         316758.4|\n",
      "|        M416|       Solayuki1|             9.0|         473357.8|         318340.5|MIRAMAR|2U4GBNA0YmnLSqvEy...|1018|          Vjolt|            13.0|         473588.5|         318418.8|\n",
      "|       Punch|   xuezhiqian717|            26.0|         721944.4|         359575.3|MIRAMAR|2U4GBNA0YmnLSqvEy...| 123| PurplePenguin9|            47.0|              0.0|              0.0|\n",
      "|         AKM|       pdfjkkvjk|            12.0|         376333.8|         317858.9|MIRAMAR|2U4GBNA0YmnLSqvEy...| 886|     JoeyJoeman|            15.0|         372808.3|         297124.2|\n",
      "|        S686|       xiaogao13|            27.0|         373125.3|         433540.6|MIRAMAR|2U4GBNA0YmnLSqvEy...| 137|         BNOISE|            38.0|         373125.8|         433608.8|\n",
      "|        S686|       Jingchita|            40.0|         370990.6|         424074.5|MIRAMAR|2U4GBNA0YmnLSqvEy...|  89|    OmGiTzPauly|            47.0|         370761.1|         423662.1|\n",
      "|         AKM|    Alexande-999|            25.0|         368799.3|         420810.2|MIRAMAR|2U4GBNA0YmnLSqvEy...| 117|       Ascholes|            43.0|         368015.0|         421322.6|\n",
      "+------------+----------------+----------------+-----------------+-----------------+-------+--------------------+----+---------------+----------------+-----------------+-----------------+\n",
      "only showing top 10 rows\n",
      "\n"
     ]
    }
   ],
   "source": [
    "death_all.show(10)"
   ]
  },
  {
   "cell_type": "code",
   "execution_count": 67,
   "metadata": {},
   "outputs": [
    {
     "data": {
      "text/plain": [
       "<bound method DataFrame.printSchema of DataFrame[date: string, game_size: int, match_id: string, match_mode: string, party_size: int, player_assists: int, player_dbno: int, player_dist_ride: double, player_dist_walk: double, player_dmg: int, player_kills: int, player_name: string, player_survive_time: double, team_id: int, team_placement: int]>"
      ]
     },
     "execution_count": 67,
     "metadata": {},
     "output_type": "execute_result"
    }
   ],
   "source": [
    "aggr_all.printSchema"
   ]
  },
  {
   "cell_type": "code",
   "execution_count": 69,
   "metadata": {},
   "outputs": [
    {
     "data": {
      "text/plain": [
       "<bound method DataFrame.printSchema of DataFrame[killed_by: string, killer_name: string, killer_placement: double, killer_position_x: double, killer_position_y: double, map: string, match_id: string, time: int, victim_name: string, victim_placement: double, victim_position_x: double, victim_position_y: double]>"
      ]
     },
     "execution_count": 69,
     "metadata": {},
     "output_type": "execute_result"
    }
   ],
   "source": [
    "death_all.printSchema"
   ]
  },
  {
   "cell_type": "code",
   "execution_count": 70,
   "metadata": {},
   "outputs": [],
   "source": [
    "aggr_all.createOrReplaceTempView(\"aggr\")\n",
    "death_all.createOrReplaceTempView(\"death\")  "
   ]
  },
  {
   "cell_type": "code",
   "execution_count": 73,
   "metadata": {},
   "outputs": [],
   "source": [
    "#Split aggregate dateframe into three dfs based on party_size\n",
    "from pyspark.sql.functions import col\n",
    "single = aggr_all.filter(col(\"party_size\") == 1)\n",
    "double = aggr_all.filter(col(\"party_size\") == 2)\n",
    "quadruple = aggr_all.filter(col(\"party_size\") == 4)"
   ]
  },
  {
   "cell_type": "markdown",
   "metadata": {},
   "source": [
    "#### 4. Analyze Data"
   ]
  },
  {
   "cell_type": "markdown",
   "metadata": {},
   "source": [
    "##### (1) SQL:"
   ]
  },
  {
   "cell_type": "markdown",
   "metadata": {},
   "source": [
    "a. Which locations is \"dangerous\" for parachuting? "
   ]
  },
  {
   "cell_type": "code",
   "execution_count": null,
   "metadata": {},
   "outputs": [],
   "source": []
  },
  {
   "cell_type": "code",
   "execution_count": null,
   "metadata": {},
   "outputs": [],
   "source": []
  },
  {
   "cell_type": "markdown",
   "metadata": {},
   "source": [
    "b. Player's placement vs Number of enemies killed"
   ]
  },
  {
   "cell_type": "code",
   "execution_count": 75,
   "metadata": {},
   "outputs": [],
   "source": [
    "single.createOrReplaceTempView(\"single\")\n",
    "double.createOrReplaceTempView(\"double\")  \n",
    "quadruple.createOrReplaceTempView(\"quadruple\")"
   ]
  },
  {
   "cell_type": "code",
   "execution_count": 95,
   "metadata": {},
   "outputs": [],
   "source": [
    "#Party Size = 1\n",
    "party1_kill = spark.sql(\"\"\"\n",
    "             select team_placement as rank , avg(player_kills) as avg_kills from single\n",
    "             group by team_placement\n",
    "             order by team_placement asc\n",
    "          \"\"\").cache()"
   ]
  },
  {
   "cell_type": "code",
   "execution_count": 96,
   "metadata": {},
   "outputs": [
    {
     "name": "stdout",
     "output_type": "stream",
     "text": [
      "+----+------------------+\n",
      "|rank|         avg_kills|\n",
      "+----+------------------+\n",
      "|   1| 6.970846857480082|\n",
      "|   2| 3.599979000144374|\n",
      "|   3|3.0568580976829995|\n",
      "|   4| 2.708515111695138|\n",
      "|   5|  2.47160518182416|\n",
      "|   6| 2.285916429187261|\n",
      "|   7| 2.144181446561614|\n",
      "|   8|  2.01534766485873|\n",
      "|   9|1.9034656409849717|\n",
      "|  10|1.8151479399756085|\n",
      "+----+------------------+\n",
      "only showing top 10 rows\n",
      "\n"
     ]
    }
   ],
   "source": [
    "party1_kill.show(10)"
   ]
  },
  {
   "cell_type": "code",
   "execution_count": 97,
   "metadata": {},
   "outputs": [],
   "source": [
    "#Party Size = 2\n",
    "party2_kill = spark.sql(\"\"\"\n",
    "             select team_placement as rank , avg(player_kills) as avg_kills from double\n",
    "             group by team_placement\n",
    "             order by team_placement asc\n",
    "          \"\"\").cache()"
   ]
  },
  {
   "cell_type": "code",
   "execution_count": 98,
   "metadata": {},
   "outputs": [
    {
     "name": "stdout",
     "output_type": "stream",
     "text": [
      "+----+------------------+\n",
      "|rank|         avg_kills|\n",
      "+----+------------------+\n",
      "|   0|               1.5|\n",
      "|   1| 4.416512205489827|\n",
      "|   2|2.5763982214079224|\n",
      "|   3|2.2311533877941216|\n",
      "|   4|1.9527973618868921|\n",
      "|   5|1.7622350599079941|\n",
      "|   6|1.6203774044897594|\n",
      "|   7|1.5054382262074872|\n",
      "|   8|1.4006394631320518|\n",
      "|   9|1.3206494950410355|\n",
      "+----+------------------+\n",
      "only showing top 10 rows\n",
      "\n"
     ]
    }
   ],
   "source": [
    "party2_kill.show(10)  ##Rank 0 ???"
   ]
  },
  {
   "cell_type": "code",
   "execution_count": 99,
   "metadata": {},
   "outputs": [],
   "source": [
    "#Party Size = 4\n",
    "party4_kill = spark.sql(\"\"\"\n",
    "             select team_placement as rank , avg(player_kills) as avg_kills from quadruple\n",
    "             group by team_placement\n",
    "             order by team_placement asc\n",
    "          \"\"\").cache()"
   ]
  },
  {
   "cell_type": "code",
   "execution_count": 100,
   "metadata": {},
   "outputs": [
    {
     "name": "stdout",
     "output_type": "stream",
     "text": [
      "+----+------------------+\n",
      "|rank|         avg_kills|\n",
      "+----+------------------+\n",
      "|   0|1.1176470588235294|\n",
      "|   1| 2.937261017288994|\n",
      "|   2|1.7871176501136514|\n",
      "|   3|1.5751676654505462|\n",
      "|   4|1.3730355960439127|\n",
      "|   5|1.2366525816118643|\n",
      "|   6|1.1366548365049696|\n",
      "|   7| 1.051095615368824|\n",
      "|   8|0.9775038751257716|\n",
      "|   9|0.9118165067424356|\n",
      "+----+------------------+\n",
      "only showing top 10 rows\n",
      "\n"
     ]
    }
   ],
   "source": [
    "party4_kill.show(10)  ##Again, rank 0 ??"
   ]
  },
  {
   "cell_type": "markdown",
   "metadata": {},
   "source": [
    "c. Kill Distance vs Kill By"
   ]
  },
  {
   "cell_type": "code",
   "execution_count": null,
   "metadata": {},
   "outputs": [],
   "source": []
  },
  {
   "cell_type": "code",
   "execution_count": null,
   "metadata": {},
   "outputs": [],
   "source": []
  },
  {
   "cell_type": "markdown",
   "metadata": {},
   "source": [
    "##### (2) Machine Learning:"
   ]
  },
  {
   "cell_type": "code",
   "execution_count": null,
   "metadata": {},
   "outputs": [],
   "source": []
  },
  {
   "cell_type": "code",
   "execution_count": null,
   "metadata": {},
   "outputs": [],
   "source": []
  },
  {
   "cell_type": "markdown",
   "metadata": {},
   "source": [
    "#### 5. "
   ]
  },
  {
   "cell_type": "code",
   "execution_count": 46,
   "metadata": {},
   "outputs": [],
   "source": [
    "spark.stop()"
   ]
  },
  {
   "cell_type": "code",
   "execution_count": null,
   "metadata": {},
   "outputs": [],
   "source": []
  }
 ],
 "metadata": {
  "kernelspec": {
   "display_name": "Python 3",
   "language": "python",
   "name": "python3"
  },
  "language_info": {
   "codemirror_mode": {
    "name": "ipython",
    "version": 3
   },
   "file_extension": ".py",
   "mimetype": "text/x-python",
   "name": "python",
   "nbconvert_exporter": "python",
   "pygments_lexer": "ipython3",
   "version": "3.7.7"
  }
 },
 "nbformat": 4,
 "nbformat_minor": 4
}
